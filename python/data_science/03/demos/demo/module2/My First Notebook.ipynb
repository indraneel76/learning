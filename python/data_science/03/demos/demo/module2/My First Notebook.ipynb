{
 "cells": [
  {
   "cell_type": "code",
   "execution_count": 2,
   "metadata": {},
   "outputs": [
    {
     "name": "stdout",
     "output_type": "stream",
     "text": [
      "Hello World\n"
     ]
    }
   ],
   "source": [
    "print (\"Hello World\")"
   ]
  },
  {
   "cell_type": "markdown",
   "metadata": {},
   "source": [
    "# My First Notebook"
   ]
  },
  {
   "cell_type": "code",
   "execution_count": 3,
   "metadata": {},
   "outputs": [
    {
     "data": {
      "text/plain": [
       "4"
      ]
     },
     "execution_count": 3,
     "metadata": {},
     "output_type": "execute_result"
    }
   ],
   "source": [
    "# Simple Code\n",
    "2 + 2"
   ]
  },
  {
   "cell_type": "code",
   "execution_count": 6,
   "metadata": {},
   "outputs": [],
   "source": [
    "# Variable defined in one cell\n",
    "x = 3"
   ]
  },
  {
   "cell_type": "code",
   "execution_count": 7,
   "metadata": {},
   "outputs": [
    {
     "name": "stdout",
     "output_type": "stream",
     "text": [
      "3\n"
     ]
    }
   ],
   "source": [
    "# Use the variable in another \n",
    "print (x)"
   ]
  },
  {
   "cell_type": "code",
   "execution_count": 9,
   "metadata": {},
   "outputs": [],
   "source": [
    "# Python Functions\n",
    "def print_hello(name):\n",
    "    print ('hello {0}'.format(name))"
   ]
  },
  {
   "cell_type": "code",
   "execution_count": 10,
   "metadata": {},
   "outputs": [
    {
     "name": "stdout",
     "output_type": "stream",
     "text": [
      "hello Abhi\n"
     ]
    }
   ],
   "source": [
    "print_hello(\"Abhi\")"
   ]
  },
  {
   "cell_type": "code",
   "execution_count": 7,
   "metadata": {},
   "outputs": [],
   "source": [
    "# Use Keyboard shortcut ESC + L to show line numbers for long code blocks\n",
    "\n",
    "# Import numpy package\n",
    "import numpy as np\n",
    "# Generate Data\n",
    "np.random.seed(10)\n",
    "\n",
    "# True Function : Y = -3.4 + 2.5 * X\n",
    "true_weights = np.array([-3.4, 2.5],dtype=float)\n",
    "# Number of observations generated\n",
    "total_count = 1000\n",
    "# X \n",
    "X = np.linspace(0,10, total_count)\n",
    "# Noise - Normally distributed\n",
    "noise = np.random.normal(size=total_count)\n",
    "\n",
    "# Y\n",
    "Y = -3.4  + 2.5 * X + noise\n",
    "# Taking a sample of 100 observations\n",
    "N = 100\n",
    "samples = zip(Y,X)\n",
    "np.random.shuffle(samples)\n",
    "samples = samples[:N]\n",
    "samples_output = [sample[0] for sample in samples]\n",
    "samples_input = [sample[1] for sample in samples]"
   ]
  },
  {
   "cell_type": "code",
   "execution_count": 11,
   "metadata": {},
   "outputs": [
    {
     "name": "stderr",
     "output_type": "stream",
     "text": [
      "Python 3.6.5 :: Anaconda, Inc.\n"
     ]
    }
   ],
   "source": [
    "! python --version"
   ]
  }
 ],
 "metadata": {
  "anaconda-cloud": {},
  "kernelspec": {
   "display_name": "Python 3",
   "language": "python",
   "name": "python3"
  },
  "language_info": {
   "codemirror_mode": {
    "name": "ipython",
    "version": 3
   },
   "file_extension": ".py",
   "mimetype": "text/x-python",
   "name": "python",
   "nbconvert_exporter": "python",
   "pygments_lexer": "ipython3",
   "version": "3.6.5"
  }
 },
 "nbformat": 4,
 "nbformat_minor": 1
}
